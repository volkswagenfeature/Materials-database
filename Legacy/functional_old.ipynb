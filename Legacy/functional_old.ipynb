{
 "cells": [
  {
   "cell_type": "code",
   "execution_count": 1,
   "metadata": {},
   "outputs": [],
   "source": [
    "# Forget why I need this. Folder creation?\n",
    "\n",
    "\n",
    "import os \n",
    "\n",
    " # Used to parse webpages\n",
    "from requests import Response\n",
    "from bs4 import BeautifulSoup as bs4\n",
    "from bs4 import element       as bel\n",
    "import re\n",
    "\n",
    "# Used for asynchronous webpage fetching\n",
    "import concurrent.futures as cof \n",
    "from requests_futures.sessions import FuturesSession\n",
    "\n",
    "# Used for a good-looking display/diagnostic system \n",
    "from IPython import display as dis\n",
    "import ipywidgets as ipw\n",
    "\n",
    "# Used for delays and tracking execution time\n",
    "import time\n"
   ]
  },
  {
   "cell_type": "code",
   "execution_count": 2,
   "metadata": {},
   "outputs": [],
   "source": [
    "import sys"
   ]
  },
  {
   "cell_type": "code",
   "execution_count": 3,
   "metadata": {},
   "outputs": [
    {
     "data": {
      "text/plain": [
       "'3.7.1 (default, Oct 22 2018, 11:21:55) \\n[GCC 8.2.0]'"
      ]
     },
     "execution_count": 3,
     "metadata": {},
     "output_type": "execute_result"
    }
   ],
   "source": [
    "sys.version"
   ]
  },
  {
   "cell_type": "markdown",
   "metadata": {},
   "source": [
    "### Automatic parsing for webpage\n",
    "Fetches the apropriate table, and parses it for GUID/material name pairs for later use. \n",
    "Set up as two functions, that run as a post-processing step for the "
   ]
  },
  {
   "cell_type": "code",
   "execution_count": 72,
   "metadata": {},
   "outputs": [],
   "source": [
    "MatDict = dict()\n",
    "class regexes:\n",
    "    def __init__(self):\n",
    "        self.tagloc=re.compile(r'.*Replacing.*')\n",
    "regexes = regexes()\n",
    "\n",
    "pages_scanned_kludge = list()\n",
    "output_dict_kludge = dict()\n",
    "\n",
    "def MatWebTableFetch (thispage,**kwargs):\n",
    "    pagenum = thispage.url.split(\"=\")[1]\n",
    "    if (thispage.status_code != 200):\n",
    "        pages_scanned_kludge[int(pagenum)-1].button_style='warning'\n",
    "        print(f\"Warning! URL {thispage.url} returned code {thispage.status_code} \")\n",
    "    else:\n",
    "        pages_scanned_kludge[int(pagenum)-1].button_style='success'\n",
    "        \n",
    "    PageHTML = bs4(thispage.text,'html.parser')\n",
    "    Tagloc = PageHTML.find_all(text=r.tagloc)\n",
    "    if len(Tagloc) != 1:\n",
    "        raise ValueError(\"Did not find single tag locator. Found {0} of them\".format(len(Tagloc)))\n",
    "    Tagloc = Tagloc[0]\n",
    "    FetchedTable = Tagloc.find_all_next('ul')\n",
    "    if len(FetchedTable) != 1:\n",
    "        raise ValueError(\"Did not find a single table. Found {0} of them\".format(len(FetchedTable)))\n",
    "    FetchedTable = FetchedTable[0]\n",
    "    return (FetchedTable.find_all(\"li\"),pagenum)\n",
    "\n",
    "\n",
    "def GetMatNameGUID (kludge_tuple,**kwargs):\n",
    "    listoflitags = kludge_tuple[0]\n",
    "    pagenum = kludge_tuple[1]\n",
    "    outputdict= output_dict_kludge\n",
    "    if len(listoflitags) == 0:\n",
    "        pages_scanned_kludge\n",
    "        \n",
    "    for item in listoflitags:\n",
    "        # The URL contains a matguid value. This must be extracted from the rest\n",
    "        extractedURL  = str(item.a[\"href\"])\n",
    "        GUIDstring = extractedURL.split(\"matguid=\", 1)[1]\n",
    "        extractedGUID = int(GUIDstring,16)\n",
    "        # The material name is formatted using <sub> tags. These must be removed.\n",
    "        # I replace them with LaTeX syntax.\n",
    "        matname = str()\n",
    "        for child in item.a.children:\n",
    "            if type(child) is bel.NavigableString :\n",
    "                \n",
    "                matname+=str(child)\n",
    "            if type(child) is bel.Tag:\n",
    "                if child.name == 'sub':\n",
    "                    if child.string is None:\n",
    "                        raise ValueError(\"Unable to parse \"+str(child))\n",
    "                    matname+=(\"_{\"+child.string+\"}\")\n",
    "        outputdict[extractedGUID] = matname\n",
    "    \n",
    "    return len(listoflitags)\n",
    "\n",
    "def debugHookPassedData(hook,**kwargs):\n",
    "    print(f\"Argument: {hook} \\n kwargs:{kwargs}\")\n",
    "\n"
   ]
  },
  {
   "cell_type": "code",
   "execution_count": 5,
   "metadata": {},
   "outputs": [
    {
     "data": {
      "text/plain": [
       "<__main__.scraper_return at 0x7fc584093c88>"
      ]
     },
     "execution_count": 5,
     "metadata": {},
     "output_type": "execute_result"
    }
   ],
   "source": [
    "class displayobject:\n",
    "    def setval(self,index,value):\n",
    "        print(f\"page {index} announces status {value}\")\n",
    "\n",
    "\n",
    "        \n",
    "# Probably best to modify this at some point into a child of the requests.response\n",
    "# class. A lot of work-around-variables are being added.\n",
    "class scraper_return:\n",
    "    __slots__ = ['pipedata','starttime','cputime','realtime', 'displayobject',\n",
    "                    'fetchcode','pagenumber','len', 'attempts']\n",
    "    def __init__(self):\n",
    "        \n",
    "        self.starttime = time.time()\n",
    "        \n",
    "        # Time is the results of timing tests run on the process\n",
    "        # Here, I'm recording both CPU time and net time\n",
    "        self.cputime = 0\n",
    "        self.realtime = 0\n",
    "        \n",
    "        # This is the http return code value received when the\n",
    "        # webpage was retreived.\n",
    "        self.fetchcode = 0\n",
    "        \n",
    "        # This is the pagenumber that was requested. It can be\n",
    "        # used to construct the URL\n",
    "        self.pagenumber = -1\n",
    "        \n",
    "        # A object with a \"setval\" method taking two arguments:\n",
    "        # A index, and a value to set it to. \n",
    "        self.displayobject = displayobject()\n",
    "        \n",
    "        # This is the length (number of entries)\n",
    "        # discovered as valid on the page\n",
    "        self.len = 0\n",
    "        \n",
    "        # this is the number of times the system tried\n",
    "        # before getting results.\n",
    "        self.attempts = 0\n",
    "scraper_return()\n",
    "        "
   ]
  },
  {
   "cell_type": "code",
   "execution_count": 6,
   "metadata": {},
   "outputs": [],
   "source": [
    "class button_grid(displayobject):\n",
    "    def __init__(self,iterator):\n",
    "        self.buttonlist = dict()\n",
    "        for i in iterator:\n",
    "            newbut = ipw.Button(value=True,\n",
    "                                description=str(i), \n",
    "                                layout=ipw.Layout(width='42px', height='25px'),\n",
    "                                disabled=True)\n",
    "            self.buttonlist[i]=newbut\n",
    "        container=ipw.Box(tuple(self.buttonlist.values()))\n",
    "        container.layout.flex_flow = \"row wrap\"\n",
    "        display(container)\n",
    "    def setval (self, index, value):\n",
    "        states = {'running':'turquoise','bad_status':'orange',\n",
    "                  'short_len':'maroon','zero_len':'red','done':'lightgreen'}\n",
    "        self.buttonlist[index].style.button_color = states[value]\n",
    "        \n"
   ]
  },
  {
   "cell_type": "code",
   "execution_count": 7,
   "metadata": {},
   "outputs": [
    {
     "data": {
      "application/vnd.jupyter.widget-view+json": {
       "model_id": "be6ba954b9a5415093a1f3bf39641323",
       "version_major": 2,
       "version_minor": 0
      },
      "text/plain": [
       "Box(children=(Button(description='1', disabled=True, layout=Layout(height='25px', width='42px'), style=ButtonS…"
      ]
     },
     "metadata": {},
     "output_type": "display_data"
    },
    {
     "data": {
      "text/plain": [
       "<__main__.button_grid at 0x7fc57d7dddd8>"
      ]
     },
     "execution_count": 7,
     "metadata": {},
     "output_type": "execute_result"
    }
   ],
   "source": [
    "button_grid(range(1,10))"
   ]
  },
  {
   "cell_type": "code",
   "execution_count": 33,
   "metadata": {},
   "outputs": [
    {
     "name": "stdout",
     "output_type": "stream",
     "text": [
      "['__class__', '__delattr__', '__dict__', '__dir__', '__doc__', '__enter__', '__eq__', '__exit__', '__format__', '__ge__', '__getattribute__', '__gt__', '__hash__', '__init__', '__init_subclass__', '__le__', '__lt__', '__module__', '__ne__', '__new__', '__reduce__', '__reduce_ex__', '__repr__', '__setattr__', '__sizeof__', '__str__', '__subclasshook__', '__weakref__', '_adjust_thread_count', '_broken', '_counter', '_initargs', '_initializer', '_initializer_failed', '_max_workers', '_shutdown', '_shutdown_lock', '_thread_name_prefix', '_threads', '_work_queue', 'map', 'shutdown', 'submit']\n",
      "<class 'tuple'>\n"
     ]
    }
   ],
   "source": []
  },
  {
   "cell_type": "code",
   "execution_count": 73,
   "metadata": {},
   "outputs": [],
   "source": [
    "\n",
    "class GUID_scraper (FuturesSession):\n",
    "    ########## STRUCTURE OF CLASS (TODO) ########\n",
    "    ## Idealy, GUID_scraper is a pipeline.\n",
    "    ## A mutable variable is generated by process_page, \n",
    "    ## and it is passed through the request function\n",
    "    ## and every hook, with the required data added to\n",
    "    ## it along the way. \n",
    "    ## Due to the way that hooks work in this, this means\n",
    "    ## idealy, the hooks would all return void, making no\n",
    "    ## changes to the container, just modifying the contents.\n",
    "    \n",
    "    ## It's closer than it was when it was purely functional,\n",
    "    ## but still needs a lot of cleaning up for this.\n",
    "    ## The class passed down the line would very likely \n",
    "    ## inherit from requests.Response, to assure compatibility\n",
    "    ## with the requests hook structure it must pass through.\n",
    "    response = scraper_return()\n",
    "    \n",
    "\n",
    "    \n",
    " \n",
    "        \n",
    "    \n",
    "    #### Extracts the list of materials and ids from the webpage. \n",
    "    def MatWebTableFetch (self,thispage,**kwargs):\n",
    "            pagenum = thispage.response.pagenumber\n",
    "            if (thispage.status_code != 200):\n",
    "                thispage.response.displayobject.setval(response.pagenumber,'bad_status')\n",
    "            \n",
    "            PageHTML = bs4(thispage.text,'html.parser')\n",
    "            Tagloc = PageHTML.find_all(text=regexes.tagloc)\n",
    "            if len(Tagloc) != 1:\n",
    "                raise ValueError(\"Did not find single tag locator. Found {0} of them\".format(len(Tagloc)))\n",
    "            Tagloc = Tagloc[0]\n",
    "            FetchedTable = Tagloc.find_all_next('ul')\n",
    "            if len(FetchedTable) != 1:\n",
    "                raise ValueError(\"Did not find a single table. Found {0} of them\".format(len(FetchedTable)))\n",
    "            FetchedTable = FetchedTable[0]\n",
    "            thispage.response.pipedata = FetchedTable.find_all(\"li\")\n",
    "            return thispage\n",
    "   \n",
    "    #### Extracts the entries from the HTML formatted list\n",
    "    def GetMatNameGUID (self,page,**kwargs):\n",
    "            #print(\"GetMatNameGUID got\",page)\n",
    "            listoflitags = page.response.pipedata\n",
    "            pagenum = page.response.pagenumber\n",
    "            page.response.len = len(listoflitags)\n",
    "            outputdict = dict()\n",
    "            #print(\"detected\",len(listoflitags))\n",
    "            if page.response.len == 0:\n",
    "                page.response.displayobject.setval(pagenum,'zero_len')\n",
    "            elif page.response.len < 250:\n",
    "                page.response.displayobject.setval(pagenum,'short_len')\n",
    "\n",
    "            for item in listoflitags:\n",
    "                # The URL contains a matguid value. This must be extracted from the rest\n",
    "                extractedURL  = str(item.a[\"href\"])\n",
    "                GUIDstring = extractedURL.split(\"matguid=\", 1)[1]\n",
    "                extractedGUID = int(GUIDstring,16)\n",
    "                # The material name is formatted using <sub> tags. These must be removed.\n",
    "                # I replace them with LaTeX syntax.\n",
    "                matname = str()\n",
    "                for child in item.a.children:\n",
    "                    if type(child) is bel.NavigableString :\n",
    "\n",
    "                        matname+=str(child)\n",
    "                    if type(child) is bel.Tag:\n",
    "                        if child.name == 'sub':\n",
    "                            if child.string is None:\n",
    "                                raise ValueError(\"Unable to parse \"+str(child))\n",
    "                            matname+=(\"_{\"+child.string+\"}\")\n",
    "                outputdict[extractedGUID] = matname\n",
    "            page.response.pipedata = outputdict\n",
    "            return page\n",
    "        \n",
    "    #### Does the final tasks needed. \n",
    "    #### When I add auto-retry, this function will also be responsible for confirming\n",
    "    #### that the page has been downloaded correctly, and scheduling a retry if it \n",
    "    #### has not. \n",
    "    def cleanup(self,page,**kwargs):\n",
    "        #print(page.response.len, \"<resp stat>\", page.status_code)\n",
    "        if page.response.len >= 250 and page.status_code == 200:\n",
    "            page.response.displayobject.setval(page.response.pagenumber,'done')\n",
    "            \n",
    "    \n",
    "        \n",
    "        \n",
    "        \n",
    "    #### A way to request pages with just a page number and response statement.\n",
    "    #### Essentialy just a wrapper for the request function that does the hard work.\n",
    "    def process_page(self, pagenum, response = None, **kwargs):\n",
    "        if response is None:\n",
    "            response = scraper_return()\n",
    "            response.pagenumber = pagenum\n",
    "\n",
    "        return self.request(\"GET\",\"http://www.matweb.com/search/GetAllMatls.aspx\",\n",
    "                     hooks=kwargs.get('hooks',dict()), \n",
    "                     params={\"p\":response.pagenumber}, \n",
    "                     response = response,\n",
    "                     **kwargs)\n",
    "    \n",
    "    # TODO switch to real parameters here,\n",
    "    # args, kwargs isn't helpful\n",
    "    \n",
    "    #### the request function is called to grab stuff from the web.\n",
    "    #### by running my own code, before simpily calling the base-class's\n",
    "    #### request function, I can start the timers that I need to make everything\n",
    "    #### else work.\n",
    "    def request(self,*args, **kwargs):\n",
    "        hooks     = kwargs.get('hooks',dict())\n",
    "        response  = kwargs.pop('response')\n",
    "        #print(response.displayobject)\n",
    "        response.starttime = time.time()\n",
    "        response.cputime = time.thread_time_ns()\n",
    "        response.realtime = time.perf_counter_ns()\n",
    "        \n",
    "        ######### HELPER FUNCTIONS ###########\n",
    "        #### This is somewhat of a workaround. \n",
    "        #### the 'response', or 'scraper_return' concept is that from\n",
    "        #### start to finish, you're passing the same sort of object.\n",
    "        #### The pipeline speaks the same language, so you can swap out\n",
    "        #### the steps freely. I started by trying to implement a lightweight\n",
    "        #### container class (scraper_return), but I ran into problems with\n",
    "        #### the clean-up code after the hooks ran realy, realy wanting a\n",
    "        #### requests.Response object. So I just threw a response object in\n",
    "        #### there with it. this can likely be neatened up further with a real\n",
    "        #### response subclass with the features I wand, but it's alright for now.\n",
    "        def hook_resp_merge(hookdata,**kwargs):\n",
    "            response.cputime = time.thread_time_ns()-response.cputime\n",
    "            response.realtime = time.perf_counter_ns()-response.realtime\n",
    "            response.attempts += 1\n",
    "            hookdata.response = response\n",
    "            return hookdata\n",
    "        ###### END OF HELPER FUNCTIONS #######\n",
    "        \n",
    "\n",
    "        # Helps work with the fact that hooks can already exist as a sequence of functions,\n",
    "        # already exist as a single function, or not exist at all before the three hooks are\n",
    "        # added to the end. this statement safely adds the hooks in the apropriate ordrer \n",
    "        # no matter what. \n",
    "        order_of_hooks = [hook_resp_merge,self.MatWebTableFetch,\n",
    "                          self.GetMatNameGUID, self.cleanup]\n",
    "        try:\n",
    "            if isinstance(hooks['response'], (list, tuple)):\n",
    "                # needs to be first so we don't time other hooks execution\n",
    "\n",
    "                order_of_hooks.extend(hooks['response'])\n",
    "                hooks['response'] = order_of_hooks\n",
    "            else:\n",
    "                order_of_hooks.append(hooks['response'])\n",
    "                hooks['response'] = order_of_hooks\n",
    "        except KeyError:\n",
    "            hooks['response'] = order_of_hooks\n",
    "        \n",
    "        \n",
    "        return super(GUID_scraper,self)\\\n",
    "               .request(*args,**kwargs)\n",
    "        \n",
    "         \n",
    "        \n",
    "            "
   ]
  },
  {
   "cell_type": "code",
   "execution_count": 77,
   "metadata": {},
   "outputs": [
    {
     "data": {
      "application/vnd.jupyter.widget-view+json": {
       "model_id": "f5de3933a6ea4c9a8994cff1b47d6c45",
       "version_major": 2,
       "version_minor": 0
      },
      "text/plain": [
       "Box(children=(Button(description='1', disabled=True, layout=Layout(height='25px', width='42px'), style=ButtonS…"
      ]
     },
     "metadata": {},
     "output_type": "display_data"
    },
    {
     "name": "stdout",
     "output_type": "stream",
     "text": [
      "['__class__', '__delattr__', '__dict__', '__dir__', '__doc__', '__eq__', '__format__', '__ge__', '__getattribute__', '__gt__', '__hash__', '__init__', '__init_subclass__', '__le__', '__lt__', '__module__', '__ne__', '__new__', '__reduce__', '__reduce_ex__', '__repr__', '__setattr__', '__sizeof__', '__str__', '__subclasshook__', '__weakref__', 'buttonlist', 'setval']\n"
     ]
    },
    {
     "ename": "ValueError",
     "evalue": "Did not find single tag locator. Found 0 of them",
     "output_type": "error",
     "traceback": [
      "\u001b[0;31m---------------------------------------------------------------------------\u001b[0m",
      "\u001b[0;31mValueError\u001b[0m                                Traceback (most recent call last)",
      "\u001b[0;32m<ipython-input-77-eab67eabf260>\u001b[0m in \u001b[0;36m<module>\u001b[0;34m\u001b[0m\n\u001b[1;32m     24\u001b[0m \u001b[0;32mfor\u001b[0m \u001b[0mcompleted\u001b[0m \u001b[0;32min\u001b[0m \u001b[0mcof\u001b[0m\u001b[0;34m.\u001b[0m\u001b[0mas_completed\u001b[0m\u001b[0;34m(\u001b[0m\u001b[0mfutures\u001b[0m\u001b[0;34m)\u001b[0m\u001b[0;34m:\u001b[0m\u001b[0;34m\u001b[0m\u001b[0;34m\u001b[0m\u001b[0m\n\u001b[1;32m     25\u001b[0m     \u001b[0;32mif\u001b[0m \u001b[0mcompleted\u001b[0m\u001b[0;34m.\u001b[0m\u001b[0mexception\u001b[0m\u001b[0;34m(\u001b[0m\u001b[0;34m)\u001b[0m\u001b[0;34m:\u001b[0m\u001b[0;34m\u001b[0m\u001b[0;34m\u001b[0m\u001b[0m\n\u001b[0;32m---> 26\u001b[0;31m         \u001b[0mprint\u001b[0m\u001b[0;34m(\u001b[0m\u001b[0mcompleted\u001b[0m\u001b[0;34m.\u001b[0m\u001b[0mresult\u001b[0m\u001b[0;34m(\u001b[0m\u001b[0;34m)\u001b[0m\u001b[0;34m)\u001b[0m\u001b[0;34m\u001b[0m\u001b[0;34m\u001b[0m\u001b[0m\n\u001b[0m\u001b[1;32m     27\u001b[0m     \u001b[0mresponse\u001b[0m \u001b[0;34m=\u001b[0m \u001b[0mcompleted\u001b[0m\u001b[0;34m.\u001b[0m\u001b[0mresult\u001b[0m\u001b[0;34m(\u001b[0m\u001b[0;34m)\u001b[0m\u001b[0;34m.\u001b[0m\u001b[0mresponse\u001b[0m\u001b[0;34m\u001b[0m\u001b[0;34m\u001b[0m\u001b[0m\n\u001b[1;32m     28\u001b[0m     \u001b[0mmaterials\u001b[0m\u001b[0;34m.\u001b[0m\u001b[0mupdate\u001b[0m\u001b[0;34m(\u001b[0m\u001b[0mresponse\u001b[0m\u001b[0;34m.\u001b[0m\u001b[0mpipedata\u001b[0m\u001b[0;34m)\u001b[0m\u001b[0;34m\u001b[0m\u001b[0;34m\u001b[0m\u001b[0m\n",
      "\u001b[0;32m/usr/lib/python3.7/concurrent/futures/_base.py\u001b[0m in \u001b[0;36mresult\u001b[0;34m(self, timeout)\u001b[0m\n\u001b[1;32m    423\u001b[0m                 \u001b[0;32mraise\u001b[0m \u001b[0mCancelledError\u001b[0m\u001b[0;34m(\u001b[0m\u001b[0;34m)\u001b[0m\u001b[0;34m\u001b[0m\u001b[0;34m\u001b[0m\u001b[0m\n\u001b[1;32m    424\u001b[0m             \u001b[0;32melif\u001b[0m \u001b[0mself\u001b[0m\u001b[0;34m.\u001b[0m\u001b[0m_state\u001b[0m \u001b[0;34m==\u001b[0m \u001b[0mFINISHED\u001b[0m\u001b[0;34m:\u001b[0m\u001b[0;34m\u001b[0m\u001b[0;34m\u001b[0m\u001b[0m\n\u001b[0;32m--> 425\u001b[0;31m                 \u001b[0;32mreturn\u001b[0m \u001b[0mself\u001b[0m\u001b[0;34m.\u001b[0m\u001b[0m__get_result\u001b[0m\u001b[0;34m(\u001b[0m\u001b[0;34m)\u001b[0m\u001b[0;34m\u001b[0m\u001b[0;34m\u001b[0m\u001b[0m\n\u001b[0m\u001b[1;32m    426\u001b[0m \u001b[0;34m\u001b[0m\u001b[0m\n\u001b[1;32m    427\u001b[0m             \u001b[0mself\u001b[0m\u001b[0;34m.\u001b[0m\u001b[0m_condition\u001b[0m\u001b[0;34m.\u001b[0m\u001b[0mwait\u001b[0m\u001b[0;34m(\u001b[0m\u001b[0mtimeout\u001b[0m\u001b[0;34m)\u001b[0m\u001b[0;34m\u001b[0m\u001b[0;34m\u001b[0m\u001b[0m\n",
      "\u001b[0;32m/usr/lib/python3.7/concurrent/futures/_base.py\u001b[0m in \u001b[0;36m__get_result\u001b[0;34m(self)\u001b[0m\n\u001b[1;32m    382\u001b[0m     \u001b[0;32mdef\u001b[0m \u001b[0m__get_result\u001b[0m\u001b[0;34m(\u001b[0m\u001b[0mself\u001b[0m\u001b[0;34m)\u001b[0m\u001b[0;34m:\u001b[0m\u001b[0;34m\u001b[0m\u001b[0;34m\u001b[0m\u001b[0m\n\u001b[1;32m    383\u001b[0m         \u001b[0;32mif\u001b[0m \u001b[0mself\u001b[0m\u001b[0;34m.\u001b[0m\u001b[0m_exception\u001b[0m\u001b[0;34m:\u001b[0m\u001b[0;34m\u001b[0m\u001b[0;34m\u001b[0m\u001b[0m\n\u001b[0;32m--> 384\u001b[0;31m             \u001b[0;32mraise\u001b[0m \u001b[0mself\u001b[0m\u001b[0;34m.\u001b[0m\u001b[0m_exception\u001b[0m\u001b[0;34m\u001b[0m\u001b[0;34m\u001b[0m\u001b[0m\n\u001b[0m\u001b[1;32m    385\u001b[0m         \u001b[0;32melse\u001b[0m\u001b[0;34m:\u001b[0m\u001b[0;34m\u001b[0m\u001b[0;34m\u001b[0m\u001b[0m\n\u001b[1;32m    386\u001b[0m             \u001b[0;32mreturn\u001b[0m \u001b[0mself\u001b[0m\u001b[0;34m.\u001b[0m\u001b[0m_result\u001b[0m\u001b[0;34m\u001b[0m\u001b[0;34m\u001b[0m\u001b[0m\n",
      "\u001b[0;32m/usr/lib/python3.7/concurrent/futures/thread.py\u001b[0m in \u001b[0;36mrun\u001b[0;34m(self)\u001b[0m\n\u001b[1;32m     55\u001b[0m \u001b[0;34m\u001b[0m\u001b[0m\n\u001b[1;32m     56\u001b[0m         \u001b[0;32mtry\u001b[0m\u001b[0;34m:\u001b[0m\u001b[0;34m\u001b[0m\u001b[0;34m\u001b[0m\u001b[0m\n\u001b[0;32m---> 57\u001b[0;31m             \u001b[0mresult\u001b[0m \u001b[0;34m=\u001b[0m \u001b[0mself\u001b[0m\u001b[0;34m.\u001b[0m\u001b[0mfn\u001b[0m\u001b[0;34m(\u001b[0m\u001b[0;34m*\u001b[0m\u001b[0mself\u001b[0m\u001b[0;34m.\u001b[0m\u001b[0margs\u001b[0m\u001b[0;34m,\u001b[0m \u001b[0;34m**\u001b[0m\u001b[0mself\u001b[0m\u001b[0;34m.\u001b[0m\u001b[0mkwargs\u001b[0m\u001b[0;34m)\u001b[0m\u001b[0;34m\u001b[0m\u001b[0;34m\u001b[0m\u001b[0m\n\u001b[0m\u001b[1;32m     58\u001b[0m         \u001b[0;32mexcept\u001b[0m \u001b[0mBaseException\u001b[0m \u001b[0;32mas\u001b[0m \u001b[0mexc\u001b[0m\u001b[0;34m:\u001b[0m\u001b[0;34m\u001b[0m\u001b[0;34m\u001b[0m\u001b[0m\n\u001b[1;32m     59\u001b[0m             \u001b[0mself\u001b[0m\u001b[0;34m.\u001b[0m\u001b[0mfuture\u001b[0m\u001b[0;34m.\u001b[0m\u001b[0mset_exception\u001b[0m\u001b[0;34m(\u001b[0m\u001b[0mexc\u001b[0m\u001b[0;34m)\u001b[0m\u001b[0;34m\u001b[0m\u001b[0;34m\u001b[0m\u001b[0m\n",
      "\u001b[0;32m~/.local/lib/python3.7/site-packages/requests/sessions.py\u001b[0m in \u001b[0;36mrequest\u001b[0;34m(self, method, url, params, data, headers, cookies, files, auth, timeout, allow_redirects, proxies, hooks, stream, verify, cert, json)\u001b[0m\n\u001b[1;32m    531\u001b[0m         }\n\u001b[1;32m    532\u001b[0m         \u001b[0msend_kwargs\u001b[0m\u001b[0;34m.\u001b[0m\u001b[0mupdate\u001b[0m\u001b[0;34m(\u001b[0m\u001b[0msettings\u001b[0m\u001b[0;34m)\u001b[0m\u001b[0;34m\u001b[0m\u001b[0;34m\u001b[0m\u001b[0m\n\u001b[0;32m--> 533\u001b[0;31m         \u001b[0mresp\u001b[0m \u001b[0;34m=\u001b[0m \u001b[0mself\u001b[0m\u001b[0;34m.\u001b[0m\u001b[0msend\u001b[0m\u001b[0;34m(\u001b[0m\u001b[0mprep\u001b[0m\u001b[0;34m,\u001b[0m \u001b[0;34m**\u001b[0m\u001b[0msend_kwargs\u001b[0m\u001b[0;34m)\u001b[0m\u001b[0;34m\u001b[0m\u001b[0;34m\u001b[0m\u001b[0m\n\u001b[0m\u001b[1;32m    534\u001b[0m \u001b[0;34m\u001b[0m\u001b[0m\n\u001b[1;32m    535\u001b[0m         \u001b[0;32mreturn\u001b[0m \u001b[0mresp\u001b[0m\u001b[0;34m\u001b[0m\u001b[0;34m\u001b[0m\u001b[0m\n",
      "\u001b[0;32m~/.local/lib/python3.7/site-packages/requests/sessions.py\u001b[0m in \u001b[0;36msend\u001b[0;34m(self, request, **kwargs)\u001b[0m\n\u001b[1;32m    651\u001b[0m \u001b[0;34m\u001b[0m\u001b[0m\n\u001b[1;32m    652\u001b[0m         \u001b[0;31m# Response manipulation hooks\u001b[0m\u001b[0;34m\u001b[0m\u001b[0;34m\u001b[0m\u001b[0;34m\u001b[0m\u001b[0m\n\u001b[0;32m--> 653\u001b[0;31m         \u001b[0mr\u001b[0m \u001b[0;34m=\u001b[0m \u001b[0mdispatch_hook\u001b[0m\u001b[0;34m(\u001b[0m\u001b[0;34m'response'\u001b[0m\u001b[0;34m,\u001b[0m \u001b[0mhooks\u001b[0m\u001b[0;34m,\u001b[0m \u001b[0mr\u001b[0m\u001b[0;34m,\u001b[0m \u001b[0;34m**\u001b[0m\u001b[0mkwargs\u001b[0m\u001b[0;34m)\u001b[0m\u001b[0;34m\u001b[0m\u001b[0;34m\u001b[0m\u001b[0m\n\u001b[0m\u001b[1;32m    654\u001b[0m \u001b[0;34m\u001b[0m\u001b[0m\n\u001b[1;32m    655\u001b[0m         \u001b[0;31m# Persist cookies\u001b[0m\u001b[0;34m\u001b[0m\u001b[0;34m\u001b[0m\u001b[0;34m\u001b[0m\u001b[0m\n",
      "\u001b[0;32m~/.local/lib/python3.7/site-packages/requests/hooks.py\u001b[0m in \u001b[0;36mdispatch_hook\u001b[0;34m(key, hooks, hook_data, **kwargs)\u001b[0m\n\u001b[1;32m     29\u001b[0m             \u001b[0mhooks\u001b[0m \u001b[0;34m=\u001b[0m \u001b[0;34m[\u001b[0m\u001b[0mhooks\u001b[0m\u001b[0;34m]\u001b[0m\u001b[0;34m\u001b[0m\u001b[0;34m\u001b[0m\u001b[0m\n\u001b[1;32m     30\u001b[0m         \u001b[0;32mfor\u001b[0m \u001b[0mhook\u001b[0m \u001b[0;32min\u001b[0m \u001b[0mhooks\u001b[0m\u001b[0;34m:\u001b[0m\u001b[0;34m\u001b[0m\u001b[0;34m\u001b[0m\u001b[0m\n\u001b[0;32m---> 31\u001b[0;31m             \u001b[0m_hook_data\u001b[0m \u001b[0;34m=\u001b[0m \u001b[0mhook\u001b[0m\u001b[0;34m(\u001b[0m\u001b[0mhook_data\u001b[0m\u001b[0;34m,\u001b[0m \u001b[0;34m**\u001b[0m\u001b[0mkwargs\u001b[0m\u001b[0;34m)\u001b[0m\u001b[0;34m\u001b[0m\u001b[0;34m\u001b[0m\u001b[0m\n\u001b[0m\u001b[1;32m     32\u001b[0m             \u001b[0;32mif\u001b[0m \u001b[0m_hook_data\u001b[0m \u001b[0;32mis\u001b[0m \u001b[0;32mnot\u001b[0m \u001b[0;32mNone\u001b[0m\u001b[0;34m:\u001b[0m\u001b[0;34m\u001b[0m\u001b[0;34m\u001b[0m\u001b[0m\n\u001b[1;32m     33\u001b[0m                 \u001b[0mhook_data\u001b[0m \u001b[0;34m=\u001b[0m \u001b[0m_hook_data\u001b[0m\u001b[0;34m\u001b[0m\u001b[0;34m\u001b[0m\u001b[0m\n",
      "\u001b[0;32m<ipython-input-73-846b0c67dd5b>\u001b[0m in \u001b[0;36mMatWebTableFetch\u001b[0;34m(self, thispage, **kwargs)\u001b[0m\n\u001b[1;32m     32\u001b[0m             \u001b[0mTagloc\u001b[0m \u001b[0;34m=\u001b[0m \u001b[0mPageHTML\u001b[0m\u001b[0;34m.\u001b[0m\u001b[0mfind_all\u001b[0m\u001b[0;34m(\u001b[0m\u001b[0mtext\u001b[0m\u001b[0;34m=\u001b[0m\u001b[0mregexes\u001b[0m\u001b[0;34m.\u001b[0m\u001b[0mtagloc\u001b[0m\u001b[0;34m)\u001b[0m\u001b[0;34m\u001b[0m\u001b[0;34m\u001b[0m\u001b[0m\n\u001b[1;32m     33\u001b[0m             \u001b[0;32mif\u001b[0m \u001b[0mlen\u001b[0m\u001b[0;34m(\u001b[0m\u001b[0mTagloc\u001b[0m\u001b[0;34m)\u001b[0m \u001b[0;34m!=\u001b[0m \u001b[0;36m1\u001b[0m\u001b[0;34m:\u001b[0m\u001b[0;34m\u001b[0m\u001b[0;34m\u001b[0m\u001b[0m\n\u001b[0;32m---> 34\u001b[0;31m                 \u001b[0;32mraise\u001b[0m \u001b[0mValueError\u001b[0m\u001b[0;34m(\u001b[0m\u001b[0;34m\"Did not find single tag locator. Found {0} of them\"\u001b[0m\u001b[0;34m.\u001b[0m\u001b[0mformat\u001b[0m\u001b[0;34m(\u001b[0m\u001b[0mlen\u001b[0m\u001b[0;34m(\u001b[0m\u001b[0mTagloc\u001b[0m\u001b[0;34m)\u001b[0m\u001b[0;34m)\u001b[0m\u001b[0;34m)\u001b[0m\u001b[0;34m\u001b[0m\u001b[0;34m\u001b[0m\u001b[0m\n\u001b[0m\u001b[1;32m     35\u001b[0m             \u001b[0mTagloc\u001b[0m \u001b[0;34m=\u001b[0m \u001b[0mTagloc\u001b[0m\u001b[0;34m[\u001b[0m\u001b[0;36m0\u001b[0m\u001b[0;34m]\u001b[0m\u001b[0;34m\u001b[0m\u001b[0;34m\u001b[0m\u001b[0m\n\u001b[1;32m     36\u001b[0m             \u001b[0mFetchedTable\u001b[0m \u001b[0;34m=\u001b[0m \u001b[0mTagloc\u001b[0m\u001b[0;34m.\u001b[0m\u001b[0mfind_all_next\u001b[0m\u001b[0;34m(\u001b[0m\u001b[0;34m'ul'\u001b[0m\u001b[0;34m)\u001b[0m\u001b[0;34m\u001b[0m\u001b[0;34m\u001b[0m\u001b[0m\n",
      "\u001b[0;31mValueError\u001b[0m: Did not find single tag locator. Found 0 of them"
     ]
    }
   ],
   "source": [
    "\n",
    "\n",
    "responses = list()\n",
    "allmatsURL = \"http://www.matweb.com/search/GetAllMatls.aspx\"\n",
    "#pages_scanned_kludge = createnbuttons(522-1)\n",
    "#print(Download.process_page(1).result().response.pipedata)\n",
    "\n",
    "status = button_grid(range(1,522))\n",
    "print(dir(status))\n",
    "\n",
    "Download = GUID_scraper(max_workers=15)\n",
    "#Download.hooks['response']=debugHookPassedData\n",
    "\n",
    "futures = list()\n",
    "for i in range(1,522):\n",
    "    scraper = scraper_return()\n",
    "    scraper.pagenumber = i\n",
    "    scraper.displayobject = status\n",
    "    futures.append(Download.process_page(i,scraper))\n",
    "\n",
    "materials = dict()\n",
    "results = list()\n",
    "\n",
    "for completed in cof.as_completed(futures):\n",
    "    if completed.exception():\n",
    "        print(completed.result())\n",
    "    response = completed.result().response\n",
    "    materials.update(response.pipedata)\n",
    "    response.pipedata = None\n",
    "    results.append(response)\n",
    "    \n",
    "    \n",
    "\n",
    "\n",
    "    "
   ]
  },
  {
   "cell_type": "code",
   "execution_count": 78,
   "metadata": {},
   "outputs": [
    {
     "name": "stdout",
     "output_type": "stream",
     "text": [
      "4250\n"
     ]
    }
   ],
   "source": [
    "print(len(materials))"
   ]
  },
  {
   "cell_type": "code",
   "execution_count": 76,
   "metadata": {},
   "outputs": [
    {
     "data": {
      "text/plain": [
       "2250"
      ]
     },
     "execution_count": 76,
     "metadata": {},
     "output_type": "execute_result"
    }
   ],
   "source": [
    "with open('materialdump.txt','w') as data:\n",
    "    for key,entry in materials.items():\n",
    "        data.write(f\"{hex(key)} , {entry}\")"
   ]
  },
  {
   "cell_type": "code",
   "execution_count": null,
   "metadata": {},
   "outputs": [],
   "source": [
    "\"\"\"\n",
    "counter_value = 0\n",
    "for key, value in output_dict_kludge.items():\n",
    "    print(f\"{value} is at location {key}\")\n",
    "    counter_value += 1\n",
    "    if (counter_value > 100):\n",
    "        break\n",
    "\"\"\""
   ]
  },
  {
   "cell_type": "code",
   "execution_count": null,
   "metadata": {},
   "outputs": [],
   "source": [
    "materials = dict()\n",
    "for response in responses:\n",
    "    num = GetMatNameGUID(response.result(),materials)\n",
    "    if num != 250:\n",
    "        print(f\"added {num} entries\")\n",
    "print(f\"materials dict now has {len(materials)} entries\")"
   ]
  }
 ],
 "metadata": {
  "kernelspec": {
   "display_name": "Python 3",
   "language": "python",
   "name": "python3"
  },
  "language_info": {
   "codemirror_mode": {
    "name": "ipython",
    "version": 3
   },
   "file_extension": ".py",
   "mimetype": "text/x-python",
   "name": "python",
   "nbconvert_exporter": "python",
   "pygments_lexer": "ipython3",
   "version": "3.7.1"
  }
 },
 "nbformat": 4,
 "nbformat_minor": 2
}
