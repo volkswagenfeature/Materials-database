{
 "cells": [
  {
   "cell_type": "code",
   "execution_count": 1,
   "metadata": {},
   "outputs": [],
   "source": [
    "from bs4 import BeautifulSoup as bs4\n",
    "from bs4 import element as elm\n",
    "import requests as req\n",
    "from os import path\n",
    "\n",
    "import tree_visualizer as tv\n",
    "import tor_session as ts"
   ]
  },
  {
   "cell_type": "code",
   "execution_count": 4,
   "metadata": {},
   "outputs": [
    {
     "data": {
      "text/plain": [
       "['2dba74b7c80442dcb807276251777624',\n",
       " 'Zoltek™ PX30 SW08 (Satin Weave) Carbon Fiber Fabric']"
      ]
     },
     "execution_count": 4,
     "metadata": {},
     "output_type": "execute_result"
    }
   ],
   "source": [
    "matdump = open('./Matdump2.csv',encoding='UTF-8')\n",
    "matdump.readlines(2)\n",
    "firstmat = [s.strip() for s in matdump.readline().split(',',1)]\n",
    "firstmat"
   ]
  },
  {
   "cell_type": "code",
   "execution_count": 6,
   "metadata": {},
   "outputs": [
    {
     "name": "stdout",
     "output_type": "stream",
     "text": [
      "started process.\n",
      "C:\\Program Files\n",
      "Tor linked. Confirming connectivity.\n",
      "\n",
      "LOCAL IP IS:\n",
      "{\n",
      "  \"origin\": \"98.192.224.11\"\n",
      "}\n",
      " \n",
      "\n",
      "\n",
      "\n",
      "Configuring socks...\n",
      "REMOTE IP IS:\n",
      "200\n",
      "{\n",
      "  \"origin\": \"199.249.230.119\"\n",
      "}\n",
      "\n"
     ]
    }
   ],
   "source": [
    "ses, tor_process=ts.make_session()\n",
    "ses = req.Session()\n",
    "ses.headers['User-agent'] = \"Mozilla/5.0 (X11; Linux x86_64)\"\n"
   ]
  },
  {
   "cell_type": "code",
   "execution_count": 7,
   "metadata": {},
   "outputs": [],
   "source": [
    "resp = ses.get(\"http://www.matweb.com/search/datasheet_print.aspx?matguid=\"+firstmat[0])"
   ]
  },
  {
   "cell_type": "code",
   "execution_count": 8,
   "metadata": {},
   "outputs": [
    {
     "name": "stdout",
     "output_type": "stream",
     "text": [
      "http://www.matweb.com/search/datasheet_print.aspx?matguid=2dba74b7c80442dcb807276251777624\n"
     ]
    }
   ],
   "source": [
    "print(resp.url)"
   ]
  },
  {
   "cell_type": "code",
   "execution_count": 10,
   "metadata": {},
   "outputs": [],
   "source": [
    "matsoup = bs4(resp.text, 'html.parser')\n",
    "tables = matsoup.select('div[id*=DataSheet]>table')\n"
   ]
  },
  {
   "cell_type": "code",
   "execution_count": 11,
   "metadata": {},
   "outputs": [],
   "source": [
    "class Properties:\n",
    "        name = \"\"\n",
    "        title_row = []\n",
    "        entries = []\n",
    "        \n",
    "class Value:\n",
    "    name = \"\"\n",
    "    units = \"ul\"\n",
    "    value = 0\n",
    "    \n",
    "    def __init__(self,name,value=None, units=None):\n",
    "        if isinstance(name,str):\n",
    "            if isinstance(value,(float,int,tuple,str)) and isinstance(units,(str)):\n",
    "                if isinstance(value,tuple) and len(value) != 2:\n",
    "                    raise ValueError(\"If a range is provided, a maximum and minimum must be given\")\n",
    "                self.name = name\n",
    "                self.units = units\n",
    "                self.value = value\n",
    "            else:\n",
    "                raise TypeError(\"Value must be a number or tuple, units must be a string\")\n",
    "        elif isinstance(name,elm.Tag):\n",
    "            print(\"Tag Detected. Here's where I'd put the parser. IF I HAD ONE!\")\n",
    "        else:\n",
    "            raise TypeError(\"Pass either a tag to parse or a value.\")\n",
    "\n",
    "\n",
    "class Material:\n",
    "    def _parse_info(self,info_tag):\n",
    "        # Take a provided tag object, and exctract data from it.\n",
    "        rows = info_tag.select('tr')\n",
    "        self.info_dict = dict()\n",
    "        for row in rows:\n",
    "            if row.th is not None:\n",
    "                self.name = row.th.get_text()\n",
    "                continue\n",
    "            cells = row.select('td')\n",
    "            if len(cells) != 2:\n",
    "                continue\n",
    "            prop_name = cells[0].get_text()\n",
    "            prop_value = cells[1].get_text(\",\",strip=True)\n",
    "            self.info_dict[prop_name] = prop_value\n",
    "    \n",
    "    \n",
    "    def _parse_props(self,prop_tag):\n",
    "        self.prop_dict = dict()\n",
    "        category = None\n",
    "        for row in prop_tag.select('tr'):\n",
    "            if row.th is not None:\n",
    "                category = row.th.string.replace(\"Properties\",\"\")\n",
    "                self.prop_dict[row.th.string.replace(\"Properties\",\"\")]= set()\n",
    "                continue\n",
    "                \n",
    "            if category is None or row.find(class_='dataCell') is None:\n",
    "                continue\n",
    "            \n",
    "            print(row.attrs)\n",
    "\n",
    "            self.prop_dict[category].add(Value(row))        "
   ]
  },
  {
   "cell_type": "code",
   "execution_count": 12,
   "metadata": {
    "collapsed": true,
    "jupyter": {
     "outputs_hidden": true
    }
   },
   "outputs": [
    {
     "name": "stdout",
     "output_type": "stream",
     "text": [
      "<tr>\n",
      " <th colspan=\"2\" style=\"font-size:larger;\">\n",
      "  Zoltek™ PX30 SW08 (Satin Weave) Carbon Fiber Fabric\n",
      " </th>\n",
      "</tr>\n",
      " \n",
      "\n",
      "<tr id=\"ctl00_ContentPrint_ucDataSheet1_trMatlGroups\">\n",
      " <td style=\"vertical-align:top;\">\n",
      "  <b>\n",
      "   Categories:\n",
      "  </b>\n",
      " </td>\n",
      " <td>\n",
      "  <a href=\"/Search/MaterialGroupSearch.aspx?GroupID=283\" title=\"See all materials in this category.\">\n",
      "   Carbon\n",
      "  </a>\n",
      "  ;\n",
      "  <a href=\"/Search/MaterialGroupSearch.aspx?GroupID=319\" title=\"See all materials in this category.\">\n",
      "   Carbon Fiber/Carbon Fibre\n",
      "  </a>\n",
      "  ;\n",
      "  <a href=\"/Search/MaterialGroupSearch.aspx?GroupID=285\" title=\"See all materials in this category.\">\n",
      "   Other Engineering Material\n",
      "  </a>\n",
      "  ;\n",
      "  <a href=\"/Search/MaterialGroupSearch.aspx?GroupID=286\" title=\"See all materials in this category.\">\n",
      "   Composite Fibers\n",
      "  </a>\n",
      "  <p>\n",
      "  </p>\n",
      " </td>\n",
      "</tr>\n",
      " \n",
      "\n",
      "<tr id=\"ctl00_ContentPrint_ucDataSheet1_trMatlNotes\">\n",
      " <td style=\"vertical-align:top;\">\n",
      "  <b>\n",
      "   Material Notes:\n",
      "  </b>\n",
      " </td>\n",
      " <td>\n",
      "  ZOLTEK PX30 Woven Carbon Fabrics tailorability results from controlling the yield on rovings and yarns, and allows for a variety of finished composite thicknesses. The spun yarns have many surface fibrils that protrude in various directions at various lengths from the surface. This fiber loft contributes to\n",
      "high cross-ply tensile and interlaminar shear strengths for 2-D composite materials. Contour conformation without wrinkling is another advantage of spun yarn fabrics. ZOLTEK PX30 materials undergo high temperature carbonization process, involving a long temperature soak time, resulting in a very thermally stable and chemically pure fabric with low oxidation rate.\n",
      "  <p>\n",
      "  </p>\n",
      "  Information provided by Zoltek Corporation.\n",
      " </td>\n",
      "</tr>\n",
      " \n",
      "\n",
      "<tr>\n",
      " <td style=\"vertical-align:top;\">\n",
      "  <strong>\n",
      "   Vendors:\n",
      "  </strong>\n",
      " </td>\n",
      " <td>\n",
      "  No vendors are listed for this material. Please\n",
      "  <a href=\"/services/advertising.aspx\">\n",
      "   click here\n",
      "  </a>\n",
      "  if you are a supplier and would like information on how to add your listing to this material.\n",
      " </td>\n",
      "</tr>\n",
      " \n",
      "\n",
      "<tr>\n",
      " <td colspan=\"2\" style=\"border:thin 1px black; padding:0xp;\">\n",
      " </td>\n",
      "</tr>\n",
      " \n",
      "\n"
     ]
    }
   ],
   "source": [
    "stuff = Material()\n",
    "stuff._parse_info(tables[0])\n",
    "#print(tables[1].find_all('tr'))\n",
    "for item in tables[0].find_all('tr'):\n",
    "    print(item.prettify(),\"\\n\")"
   ]
  },
  {
   "cell_type": "code",
   "execution_count": 60,
   "metadata": {},
   "outputs": [
    {
     "name": "stdout",
     "output_type": "stream",
     "text": [
      "Physical \n",
      "{<__main__.Value object at 0x7f0a125ded90>}\n",
      "Electrical \n",
      "{<__main__.Value object at 0x7f0a125ded00>}\n",
      "Component Elements \n",
      "{<__main__.Value object at 0x7f0a125de430>}\n",
      "Descriptive \n",
      "{<__main__.Value object at 0x7f0a125dec10>, <__main__.Value object at 0x7f0a125de4c0>, <__main__.Value object at 0x7f0a125de4f0>}\n"
     ]
    }
   ],
   "source": [
    "for key,value in  stuff.prop_dict.items():\n",
    "    print(key)\n",
    "    print(value)\n"
   ]
  },
  {
   "cell_type": "code",
   "execution_count": 18,
   "metadata": {},
   "outputs": [
    {
     "name": "stdout",
     "output_type": "stream",
     "text": [
      "Categories:  =\n",
      " Carbon,;,Carbon Fiber/Carbon Fibre,;,Other Engineering Material,;,Composite Fibers \n",
      "-------------------------\n",
      "\n",
      "Material Notes:  =\n",
      " ZOLTEK PX30 Woven Carbon Fabrics tailorability results from controlling the yield on rovings and yarns, and allows for a variety of finished composite thicknesses. The spun yarns have many surface fibrils that protrude in various directions at various lengths from the surface. This fiber loft contributes to\n",
      "high cross-ply tensile and interlaminar shear strengths for 2-D composite materials. Contour conformation without wrinkling is another advantage of spun yarn fabrics. ZOLTEK PX30 materials undergo high temperature carbonization process, involving a long temperature soak time, resulting in a very thermally stable and chemically pure fabric with low oxidation rate.,Information provided by Zoltek Corporation. \n",
      "-------------------------\n",
      "\n",
      "Vendors:  =\n",
      " No vendors are listed for this material. Please,click here,if you are a supplier and would like information on how to add your listing to this material. \n",
      "-------------------------\n",
      "\n"
     ]
    }
   ],
   "source": [
    "for key,value in stuff.info_dict.items():\n",
    "    print(key,\"=\\n\",value,\"\\n-------------------------\\n\")"
   ]
  },
  {
   "cell_type": "code",
   "execution_count": null,
   "metadata": {},
   "outputs": [],
   "source": []
  }
 ],
 "metadata": {
  "kernelspec": {
   "display_name": "Python 3",
   "language": "python",
   "name": "python3"
  },
  "language_info": {
   "codemirror_mode": {
    "name": "ipython",
    "version": 3
   },
   "file_extension": ".py",
   "mimetype": "text/x-python",
   "name": "python",
   "nbconvert_exporter": "python",
   "pygments_lexer": "ipython3",
   "version": "3.7.9"
  }
 },
 "nbformat": 4,
 "nbformat_minor": 4
}
