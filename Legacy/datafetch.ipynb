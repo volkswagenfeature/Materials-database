{
 "cells": [
  {
   "cell_type": "markdown",
   "metadata": {},
   "source": [
    "## Imports and value setup"
   ]
  },
  {
   "cell_type": "code",
   "execution_count": 1,
   "metadata": {},
   "outputs": [],
   "source": [
    "# webpage parser\n",
    "import requests               as req\n",
    "from bs4 import BeautifulSoup as bs4\n",
    "from bs4 import element       as bel\n",
    "\n",
    "# Used for a good-looking display/diagnostic system \n",
    "from IPython import display as dis\n",
    "import ipywidgets as ipw\n",
    "\n",
    "# Used to bypass IP-ban\n",
    "from stem import process as tpr"
   ]
  },
  {
   "cell_type": "markdown",
   "metadata": {},
   "source": [
    "## Object and method definitions"
   ]
  },
  {
   "cell_type": "code",
   "execution_count": 2,
   "metadata": {},
   "outputs": [
    {
     "name": "stderr",
     "output_type": "stream",
     "text": [
      "UsageError: Cell magic `%%pycodestyle` not found.\n"
     ]
    }
   ],
   "source": [
    "def get_tables(soup):\n",
    "    tables = soup.find_all('table')\n",
    "    if len(tables) != 2:\n",
    "        raise ValueError(\"Wrong number or wrong type of tables!\")\n",
    "    for index, table in enumerate(tables):\n",
    "        if \"tabledataformat\" not in table.get('class',None):\n",
    "            bugloc = \"material\" if index else \"properties\"\n",
    "            print(f' WARNING! {bugloc} table has wrong class {table.get(\"class\",None)} ')\n",
    "    return tables\n",
    "\n",
    "def get_properties_types(properties_t):\n",
    "    print([tag.get('class',None)for tag in  properties_t.find_all(\"th\")])\n",
    "    rows =[tag.string  for tag in  properties_t.find_all(\"th\") \n",
    "           if (tag.get('class', None) is None)]\n",
    "    return rows\n",
    "                  "
   ]
  },
  {
   "cell_type": "code",
   "execution_count": 3,
   "metadata": {},
   "outputs": [],
   "source": [
    "# Debugging list. Adds raw tags to this, so that I can analyze them later.\n",
    "dbug = []\n",
    "class _rangetype:\n",
    "    __slots__ = ['upper','lower','average']\n",
    "    def __init__(self, lower, upper):\n",
    "        if upper < lower :\n",
    "            raise ValueError(\"Second argument must be larger than first\")\n",
    "        self.upper = upper\n",
    "        self.lower = lower\n",
    "        self.average = upper + lower / 2\n",
    "    def __set__(self,instance,value):\n",
    "        raise AttributeError(\"Can't change these values!\")\n",
    "        \n",
    "    def __str__(self):\n",
    "        return f'{self.lower} - {self.upper}'\n",
    "\n",
    "# Handles the numerous different formats present in the materials properties. \n",
    "class mat_property:\n",
    "    __slots__ = ['units','value','condition','comparator','comments','data_extractors']\n",
    "\n",
    "            \n",
    "        \n",
    "    class _unittype:\n",
    "        __slots__ = ['metric','english','bounds','same']\n",
    "\n",
    "        def __init__(self,metric, english = None, bounds = None):\n",
    "            self.metric = metric\n",
    "            self.bounds = bounds\n",
    "            if english is None:\n",
    "                self.same = True\n",
    "            else:\n",
    "                self.english = english \n",
    "                self.same = False\n",
    "        def __call__(self,system='m'):\n",
    "            # May have duplicate handling for bounds. Also \n",
    "            if system == 'b':\n",
    "                return self.bounds\n",
    "            \n",
    "            if self.same:\n",
    "                return self.metric\n",
    "            \n",
    "            if system == 'e':\n",
    "                return self.english\n",
    "            else:\n",
    "                return self.metric\n",
    "\n",
    "    # {'a|None|a|None|span', 'a|None|span', 'None|a|None|span', 'None', 'None|span'}\n",
    "    # This is the setup. ['>='|'<='|'>'|'<'] {'<a...</a>'|[0-9]*} [UNIT]|[- {'<a...</a>'|[0-9]*} [UNIT]]\n",
    "    # {'a|None|a|None|span', 'a|None|span', 'None|a|None|span', 'None', 'None|span'}\n",
    "    # This is the setup. ['>='|'<='|'>'|'<'] {'<a...</a>'|[0-9]*} [UNIT]|[- {'<a...</a>'|[0-9]*} [UNIT]]\n",
    "\n",
    "    # Define a function for each individual variant. \n",
    "    # Insert these functions into a dict\n",
    "    # Have this dict indexed to the merged strings above\n",
    "    # Have the apropriate function in the dict called, \n",
    "    # by fetching it using the coresponding merged string.\n",
    "    \n",
    "    ## NOTE: These methods are likely going to be completely replaced by CSS selectors.\n",
    "    \n",
    "    @staticmethod\n",
    "    def None_ (tag):\n",
    "        val = str(tag[0])\n",
    "        if \"-\" in val:\n",
    "            value = rangetype(*[s.strip() for s in val.split(' - ')])\n",
    "        else:\n",
    "            value = val\n",
    "\n",
    "        return value, None, None, None\n",
    "\n",
    "    # These are the methods to extract data from cells\n",
    "    @staticmethod\n",
    "    def None_span_(td_datacell):\n",
    "        dc_results = str(td_datacell[0].string).split(\" \")\n",
    "        value, units = dc_results\n",
    "        condition = td_datacell[1].string\n",
    "        return value, units, condition, None\n",
    "\n",
    "    \n",
    "\n",
    "    @staticmethod\n",
    "    def a_None_span_ (td_datacell):\n",
    "        value = td_datacell[0].string\n",
    "        units = td_datacell[1]\n",
    "        condition = td_datacell[2].string\n",
    "        return value,units,condition,None\n",
    "\n",
    "    @staticmethod\n",
    "    def None_a_None_span_ (td_datacell):\n",
    "        value, units, condition = td_datacell.extract_data_cell(td_datacell[1:])\n",
    "        bounds = str(td_datacell[0])\n",
    "        return value, units, condition, bounds\n",
    "\n",
    "    @staticmethod\n",
    "    def a_None_a_None_span_ (td_datacell):\n",
    "        low = str(td_datacell[0].string)\n",
    "        high = str(td_datacell[2].string)\n",
    "        units = str(td_datacell[3])\n",
    "        condition = td_datacell[4].string\n",
    "        return rangetype(low,high), units, condition, None\n",
    "\n",
    "\n",
    "        \n",
    "    def extract_data_cell (self,datacell):\n",
    "        dbug.append(datacell)\n",
    "        classline = \"_\".join([str(child.name) for child in datacell.children])+'_'\n",
    "        try:\n",
    "            parsefunc = self.data_extractors[classline]\n",
    "            return parsefunc(datacell.contents)\n",
    "        except IndexError:\n",
    "            raise ValueError(f\"No Valid parser for typelist {classline}. Full cell is \\n{datacell.prettify()}\")\n",
    "            \n",
    "        \n",
    "        \n",
    "    def __init__(self, mvalue=None, munits=None,\n",
    "                 evalue=None, eunits=None, \n",
    "                 mcond=None, econd=None, extract=None ):\n",
    "        if not(bool(extract) ^ all((mvalue,munits))):\n",
    "            raise ValueError(\"Provide either both metric and english units, or a list of td tags to extract from. Not both.\")\n",
    "        if extract:\n",
    "            self.value = None\n",
    "            self.condition = None\n",
    "            self.units = None\n",
    "            self.comparator = None\n",
    "            self.comments = None\n",
    "            self.data_extractors = {  'None_'  : mat_property.None_,\n",
    "                          'None_span_'         : mat_property.None_span_,\n",
    "                        'a_None_span_'         : mat_property.a_None_span_,\n",
    "                          'None_a_None_span_'  : mat_property.None_a_None_span_,\n",
    "                        'a_None_a_None_span_'  : mat_property.a_None_a_None_span_\n",
    "                       }\n",
    "            datacells = extract.find_all(\"td\", class_=\"dataCell\")\n",
    "            if len(datacells) == 1:\n",
    "                value, units, cond, comp = self.extract_data_cell(datacells[0])\n",
    "                self.value         = self._unittype(value)\n",
    "                if units:\n",
    "                    self.units     = self._unittype(units)\n",
    "                if cond:\n",
    "                    self.condition = self._unittype(cond)\n",
    "                if comp:\n",
    "                    self.comparitor = comp\n",
    "\n",
    "            elif len(datacells) == 2:\n",
    "                # The list comprehension simpily says, the first datacell is metric data\n",
    "                # The second is english. Unpack and assign properly.\n",
    "                metric  = self.extract_data_cell(datacells[0])\n",
    "                english = self.extract_data_cell(datacells[1]) \n",
    "                self.value     = self._unittype(metric[0], english[0])\n",
    "                self.units     = self._unittype(metric[1], english[1])\n",
    "                if metric[2]:\n",
    "                    print()\n",
    "                    self.condition = self._unittype(metric[2],english[2])\n",
    "                    print(f\"SET CONDITION TO {self.condition} OF TYPE {type(self.condition)}\")\n",
    "            else:\n",
    "                raise ValueError(f\"{len(datacells)} datacells found (need 1-2)\")\n",
    "                \n",
    "            commentcells = extract.find_all(\"td\", class_=\"dataComment\")\n",
    "            if len(commentcells) == 1:\n",
    "                self.comment = comentcells[0].string\n",
    "            \n",
    "            else:\n",
    "                raise ValueError(f\"{len(commentcells)} comments found (need 1)\")\n",
    "                \n",
    "        \n",
    "        # If parameters are given instead of table cell, build based on those instead.\n",
    "        else:\n",
    "            self.value = self._unittype(mvalue,evalue)\n",
    "            self.units = self._unittype(munits,eunits)\n",
    "            if mcond:\n",
    "                self.condition = self._unittype(mcond,econd)\n",
    "            else:\n",
    "                self.condition = None\n",
    "\n",
    "        \n",
    "            \n",
    "    def __str__(self):\n",
    "        def print_system(value, units, condition, comparator, system = None, prefix = None):\n",
    "            res = \"\"\n",
    "            res += f'{system}: ' if system else \"\"\n",
    "            res += comparator if comparator else \"\"\n",
    "            res += value(prefix)\n",
    "            res += f' {units(prefix)}' if (units is not None and units(prefix)) else \"\"\n",
    "            res += f' Cond: {condition(prefix)}\\n' if (condition is not None and condition(prefix)) else \"\\n\"\n",
    "            return res\n",
    "        if self.units is None or self.units.same:\n",
    "            res = print_system(self.value,self.units,self.condition,self.comparator)\n",
    "            \n",
    "        else:\n",
    "            res  = print_system(self.value, self.units, self.condition, self.comparator, system = 'Metric')\n",
    "            res += print_system(self.value, self.units, self.condition, self.comparator, system = 'English', prefix = 'e')\n",
    "        return res\n",
    "    \n",
    "            "
   ]
  },
  {
   "cell_type": "code",
   "execution_count": 4,
   "metadata": {},
   "outputs": [],
   "source": [
    "def parse_properties(properties_t):\n",
    "    collected = dict()\n",
    "    rows = properties_t.find_all(\"tr\")\n",
    "                  \n",
    "    next_key   = None\n",
    "    next_vdict = dict()\n",
    "    for row in rows:\n",
    "\n",
    "        if row.th:\n",
    "            rowcells = row.find_all(\"th\")\n",
    "            if next_key:\n",
    "                #print(f\"Assigned {next_key} to {list([ (item,value) for item, value in next_vdict.items()])}\")\n",
    "                collected[next_key] = next_vdict.copy()\n",
    "                next_vdict = dict()\n",
    "                  \n",
    "            next_key = rowcells[0].text \n",
    "            #print(f\"Assigned next_key to {next_key}\")\n",
    "                   \n",
    "        elif row.td:\n",
    "            if row.td.has_attr('colspan'):\n",
    "                continue\n",
    "            parsed_property = mat_property(extract=row)\n",
    "            print(parsed_property)\n",
    "            next_vdict[row.td.text] = parsed_property\n",
    "        else:\n",
    "            print(\"Warning! unable to parse row! Dumping...\")\n",
    "            print(row.prettify())\n",
    "    #print(f\"Assigned {next_key} to {list([(item,str(value)) for item, value in next_vdict.items()])}\")\n",
    "    collected[next_key] = next_vdict.copy()\n",
    "    next_vdict = dict()\n",
    "    return collected\n",
    "    "
   ]
  },
  {
   "cell_type": "code",
   "execution_count": 5,
   "metadata": {},
   "outputs": [],
   "source": [
    "def parse_material (material_t):\n",
    "    namestring = \"\"\n",
    "    notesdict = dict()\n",
    "    for table_row in material_t.tbody.find_all(\"tr\"):\n",
    "        if table_row.th: #May not work, check\n",
    "            namestring = str(table_row.th.string).strip()\n",
    "        elif len(table_row.find_all(\"td\")) == 2:\n",
    "            \n",
    "            property_name = list(table_row.td.strings)[0]\n",
    "            property_string = \"\"\n",
    "            for entry in table_row.find_all(\"td\")[1].children:\n",
    "                if type(entry) is bel.NavigableString:\n",
    "                    property_string += str(entry)\n",
    "                elif entry.name == 'a' and entry['href']:\n",
    "                    property_string += f\"[{entry['href']}]<{entry.string}>\"\n",
    "                elif entry.name == 'p':\n",
    "                    property_string += \"\\n\\t\"\n",
    "                else:\n",
    "                    raise ValueError(f\"Cannot handle this content: \\n {entry.prettify()}\")\n",
    "            notesdict[property_name] = property_string\n",
    "        elif 'border:thin 1px black; padding:0xp;' in table_row.td.get('style',[]):\n",
    "            continue        \n",
    "        else:\n",
    "            raise ValueError(f\"No function for children {table_row.contents}\")\n",
    "    return  namestring, notesdict\n",
    "            "
   ]
  },
  {
   "cell_type": "markdown",
   "metadata": {},
   "source": [
    "## Network setup and fetch"
   ]
  },
  {
   "cell_type": "markdown",
   "metadata": {},
   "source": [
    "#### Tor setup, diagnostics, and debugging"
   ]
  },
  {
   "cell_type": "code",
   "execution_count": 6,
   "metadata": {},
   "outputs": [
    {
     "ename": "NameError",
     "evalue": "name 'generate_tor_session' is not defined",
     "output_type": "error",
     "traceback": [
      "\u001b[0;31m---------------------------------------------------------------------------\u001b[0m",
      "\u001b[0;31mNameError\u001b[0m                                 Traceback (most recent call last)",
      "\u001b[0;32m<ipython-input-6-105e8d7bd56a>\u001b[0m in \u001b[0;36m<module>\u001b[0;34m\u001b[0m\n\u001b[0;32m----> 1\u001b[0;31m \u001b[0mtor_session\u001b[0m\u001b[0;34m,\u001b[0m \u001b[0mtor_process\u001b[0m \u001b[0;34m=\u001b[0m \u001b[0mgenerate_tor_session\u001b[0m\u001b[0;34m(\u001b[0m\u001b[0;36m9965\u001b[0m\u001b[0;34m)\u001b[0m\u001b[0;34m\u001b[0m\u001b[0;34m\u001b[0m\u001b[0m\n\u001b[0m",
      "\u001b[0;31mNameError\u001b[0m: name 'generate_tor_session' is not defined"
     ]
    }
   ],
   "source": [
    "tor_session, tor_process = generate_tor_session(9965)"
   ]
  },
  {
   "cell_type": "code",
   "execution_count": 16,
   "metadata": {},
   "outputs": [],
   "source": [
    "# If you need a new tor session, kill the old one first, or you'll need to find a new port\n",
    "tor_process.kill()"
   ]
  },
  {
   "cell_type": "code",
   "execution_count": 15,
   "metadata": {},
   "outputs": [
    {
     "name": "stdout",
     "output_type": "stream",
     "text": [
      "00342ed4346d455db09f8359f8cd73aa\n"
     ]
    },
    {
     "data": {
      "text/plain": [
       "'http://www.matweb.com/search/datasheet_print.aspx?matguid=00342ed4346d455db09f8359f8cd73aa'"
      ]
     },
     "execution_count": 15,
     "metadata": {},
     "output_type": "execute_result"
    }
   ],
   "source": [
    "# Check to see if you are banned on this IP or not. \n",
    "guid = f\"{samplematerials.GUID[0]:032x}\"\n",
    "print(guid)\n",
    "test = tor_session.get(printurl,params={'matguid':guid})\n",
    "test.url"
   ]
  },
  {
   "cell_type": "code",
   "execution_count": 16,
   "metadata": {},
   "outputs": [
    {
     "name": "stdout",
     "output_type": "stream",
     "text": [
      "[]\n",
      "130298\n"
     ]
    }
   ],
   "source": [
    "print(tor_session.cookies.items())\n",
    "print(len(samplematerials.GUID))"
   ]
  },
  {
   "cell_type": "markdown",
   "metadata": {},
   "source": [
    "#### Page batch fetching"
   ]
  },
  {
   "cell_type": "code",
   "execution_count": 17,
   "metadata": {},
   "outputs": [
    {
     "name": "stdout",
     "output_type": "stream",
     "text": [
      "url_list is now 80 items long\n",
      "url_list is now 60 items long\n",
      "url_list is now 40 items long\n",
      "url_list is now 20 items long\n",
      "url_list is now 0 items long\n"
     ]
    }
   ],
   "source": [
    "\n",
    "url_list = [printurl+f\"?matguid={guid:032x}\" for guid in samplematerials.GUID[0:100]]\n",
    "batch = request_batch(url_list, batchsize=20, session = tor_session)\n",
    "results = batch.run()"
   ]
  },
  {
   "cell_type": "markdown",
   "metadata": {},
   "source": [
    "## Page Processing"
   ]
  },
  {
   "cell_type": "code",
   "execution_count": 18,
   "metadata": {},
   "outputs": [],
   "source": [
    "soups = [bs4(result.result().text) for result in results]\n",
    "#print(soups[0].prettify())\n",
    "testsoup = soups[0]"
   ]
  }
 ],
 "metadata": {
  "kernelspec": {
   "display_name": "Python 3",
   "language": "python",
   "name": "python3"
  },
  "language_info": {
   "codemirror_mode": {
    "name": "ipython",
    "version": 3
   },
   "file_extension": ".py",
   "mimetype": "text/x-python",
   "name": "python",
   "nbconvert_exporter": "python",
   "pygments_lexer": "ipython3",
   "version": "3.7.9"
  }
 },
 "nbformat": 4,
 "nbformat_minor": 4
}
